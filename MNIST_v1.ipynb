{
  "nbformat": 4,
  "nbformat_minor": 0,
  "metadata": {
    "colab": {
      "name": " MNIST_v1.ipynb",
      "provenance": [],
      "collapsed_sections": [],
      "include_colab_link": true
    },
    "kernelspec": {
      "name": "python3",
      "display_name": "Python 3"
    }
  },
  "cells": [
    {
      "cell_type": "markdown",
      "metadata": {
        "id": "view-in-github",
        "colab_type": "text"
      },
      "source": [
        "<a href=\"https://colab.research.google.com/github/tapesh-santra/Dublin-housing/blob/master/MNIST_v1.ipynb\" target=\"_parent\"><img src=\"https://colab.research.google.com/assets/colab-badge.svg\" alt=\"Open In Colab\"/></a>"
      ]
    },
    {
      "cell_type": "markdown",
      "metadata": {
        "id": "pNzvyDfyk7-r",
        "colab_type": "text"
      },
      "source": [
        "# 1. All imports\n",
        "https://www.kaggle.com/yufengg/emnist-gpu-keras-to-tf"
      ]
    },
    {
      "cell_type": "markdown",
      "metadata": {
        "id": "KINI0Ex2HZlA",
        "colab_type": "text"
      },
      "source": [
        "# 1. Mount the file system"
      ]
    },
    {
      "cell_type": "code",
      "metadata": {
        "id": "EXml9F9WIOlB",
        "colab_type": "code",
        "colab": {
          "base_uri": "https://localhost:8080/",
          "height": 122
        },
        "outputId": "87953fb9-d1b5-4edb-aa4f-849393965685"
      },
      "source": [
        "from google.colab import drive\n",
        "drive.mount('/content/drive/')"
      ],
      "execution_count": null,
      "outputs": [
        {
          "output_type": "stream",
          "text": [
            "Go to this URL in a browser: https://accounts.google.com/o/oauth2/auth?client_id=947318989803-6bn6qk8qdgf4n4g3pfee6491hc0brc4i.apps.googleusercontent.com&redirect_uri=urn%3aietf%3awg%3aoauth%3a2.0%3aoob&response_type=code&scope=email%20https%3a%2f%2fwww.googleapis.com%2fauth%2fdocs.test%20https%3a%2f%2fwww.googleapis.com%2fauth%2fdrive%20https%3a%2f%2fwww.googleapis.com%2fauth%2fdrive.photos.readonly%20https%3a%2f%2fwww.googleapis.com%2fauth%2fpeopleapi.readonly\n",
            "\n",
            "Enter your authorization code:\n",
            "··········\n",
            "Mounted at /content/drive/\n"
          ],
          "name": "stdout"
        }
      ]
    },
    {
      "cell_type": "markdown",
      "metadata": {
        "id": "YxJOwZI5RTEe",
        "colab_type": "text"
      },
      "source": [
        "# 2. All imports"
      ]
    },
    {
      "cell_type": "code",
      "metadata": {
        "id": "yzjUNPT-kxAq",
        "colab_type": "code",
        "colab": {}
      },
      "source": [
        "from numpy.random import seed\n",
        "seed(42)# keras seed fixing\n",
        "import tensorflow as tf\n",
        "tf.random.set_seed(42)\n",
        "\n",
        "from __future__ import print_function\n",
        "import keras\n",
        "from keras.datasets import mnist\n",
        "from keras.models import Sequential\n",
        "from keras.layers import Dense, Dropout, Flatten\n",
        "from keras.layers import Conv2D, MaxPooling2D\n",
        "from keras import backend as K\n",
        "import numpy as np # linear algebra\n",
        "import pandas as pd # data processing, CSV file I/O (e.g. pd.read_csv)\n",
        "from matplotlib import pyplot as plt\n",
        "import scipy.io\n"
      ],
      "execution_count": null,
      "outputs": []
    },
    {
      "cell_type": "markdown",
      "metadata": {
        "id": "zFpSBGV5Ra3b",
        "colab_type": "text"
      },
      "source": [
        "# 3. Read in training and testing datasets"
      ]
    },
    {
      "cell_type": "code",
      "metadata": {
        "id": "rqI4F0SEF8a5",
        "colab_type": "code",
        "colab": {}
      },
      "source": [
        ""
      ],
      "execution_count": null,
      "outputs": []
    },
    {
      "cell_type": "code",
      "metadata": {
        "id": "Tc1z4zl1lgpg",
        "colab_type": "code",
        "colab": {
          "base_uri": "https://localhost:8080/",
          "height": 1000
        },
        "outputId": "acf2d510-e8cf-45cc-d579-6105aa84f36c"
      },
      "source": [
        "\n",
        "#train_data_path = '/content/drive/My Drive/datasets/ocr/emnist/emnist-balanced-train.zip'\n",
        "#test_data_path = '/content/drive/My Drive/datasets/ocr/emnist/emnist-balanced-test.zip'\n",
        "\n",
        "#train_data = pd.read_csv(train_data_path, header=None,compression = 'zip')\n",
        "#test_data = pd.read_csv(test_data_path, header=None,compression = 'zip')"
      ],
      "execution_count": null,
      "outputs": [
        {
          "output_type": "stream",
          "text": [
            "[(array([[(array([[0, 0, 0, ..., 0, 0, 0],\n",
            "       [0, 0, 0, ..., 0, 0, 0],\n",
            "       [0, 0, 0, ..., 0, 0, 0],\n",
            "       ...,\n",
            "       [0, 0, 0, ..., 0, 0, 0],\n",
            "       [0, 0, 0, ..., 0, 0, 0],\n",
            "       [0, 0, 0, ..., 0, 0, 0]], dtype=uint8), array([[24],\n",
            "       [36],\n",
            "       [ 5],\n",
            "       ...,\n",
            "       [ 9],\n",
            "       [36],\n",
            "       [ 1]], dtype=uint8), array([[  33],\n",
            "       [3568],\n",
            "       [3100],\n",
            "       ...,\n",
            "       [3406],\n",
            "       [ 466],\n",
            "       [ 189]], dtype=uint16))]],\n",
            "      dtype=[('images', 'O'), ('labels', 'O'), ('writers', 'O')]), array([[(array([[0, 0, 0, ..., 0, 0, 0],\n",
            "       [0, 0, 0, ..., 0, 0, 0],\n",
            "       [0, 0, 0, ..., 0, 0, 0],\n",
            "       ...,\n",
            "       [0, 0, 0, ..., 0, 0, 0],\n",
            "       [0, 0, 0, ..., 0, 0, 0],\n",
            "       [0, 0, 0, ..., 0, 0, 0]], dtype=uint8), array([[24],\n",
            "       [22],\n",
            "       [28],\n",
            "       ...,\n",
            "       [ 3],\n",
            "       [ 3],\n",
            "       [ 7]], dtype=uint8), array([[ 242],\n",
            "       [ 125],\n",
            "       [ 382],\n",
            "       ...,\n",
            "       [  94],\n",
            "       [4037],\n",
            "       [1125]], dtype=uint16))]],\n",
            "      dtype=[('images', 'O'), ('labels', 'O'), ('writers', 'O')]), array([[  0,  48],\n",
            "       [  1,  49],\n",
            "       [  2,  50],\n",
            "       [  3,  51],\n",
            "       [  4,  52],\n",
            "       [  5,  53],\n",
            "       [  6,  54],\n",
            "       [  7,  55],\n",
            "       [  8,  56],\n",
            "       [  9,  57],\n",
            "       [ 10,  65],\n",
            "       [ 11,  66],\n",
            "       [ 12,  67],\n",
            "       [ 13,  68],\n",
            "       [ 14,  69],\n",
            "       [ 15,  70],\n",
            "       [ 16,  71],\n",
            "       [ 17,  72],\n",
            "       [ 18,  73],\n",
            "       [ 19,  74],\n",
            "       [ 20,  75],\n",
            "       [ 21,  76],\n",
            "       [ 22,  77],\n",
            "       [ 23,  78],\n",
            "       [ 24,  79],\n",
            "       [ 25,  80],\n",
            "       [ 26,  81],\n",
            "       [ 27,  82],\n",
            "       [ 28,  83],\n",
            "       [ 29,  84],\n",
            "       [ 30,  85],\n",
            "       [ 31,  86],\n",
            "       [ 32,  87],\n",
            "       [ 33,  88],\n",
            "       [ 34,  89],\n",
            "       [ 35,  90],\n",
            "       [ 36,  97],\n",
            "       [ 37,  98],\n",
            "       [ 38, 100],\n",
            "       [ 39, 101],\n",
            "       [ 40, 102],\n",
            "       [ 41, 103],\n",
            "       [ 42, 104],\n",
            "       [ 43, 110],\n",
            "       [ 44, 113],\n",
            "       [ 45, 114],\n",
            "       [ 46, 116]], dtype=uint8))]\n"
          ],
          "name": "stdout"
        }
      ]
    },
    {
      "cell_type": "markdown",
      "metadata": {
        "id": "moesbEvASg8N",
        "colab_type": "text"
      },
      "source": [
        "# 4. Define class mapping for training and testing data"
      ]
    },
    {
      "cell_type": "code",
      "metadata": {
        "id": "DJFazK_rpyfi",
        "colab_type": "code",
        "colab": {}
      },
      "source": [
        "class_mapping = '0123456789ABCDEFGHIJKLMNOPQRSTUVWXYZabdefghnqrt'"
      ],
      "execution_count": null,
      "outputs": []
    },
    {
      "cell_type": "code",
      "metadata": {
        "id": "JlSjJv2WTCZc",
        "colab_type": "code",
        "colab": {}
      },
      "source": [
        "# 5. Display one image and the corresponding label"
      ],
      "execution_count": null,
      "outputs": []
    },
    {
      "cell_type": "code",
      "metadata": {
        "id": "FZQDYD49p0Dh",
        "colab_type": "code",
        "colab": {
          "base_uri": "https://localhost:8080/",
          "height": 530
        },
        "outputId": "45c67ea7-321d-4394-ecc4-13f71db6089e"
      },
      "source": [
        "num_classes = len(train_data[0].unique())\n",
        "row_num = 8\n",
        "\n",
        "plt.imshow(train_data.values[row_num, 1:].reshape([28, 28]), cmap='Greys_r')\n",
        "plt.show()\n",
        "\n",
        "img_flip = np.transpose(train_data.values[row_num,1:].reshape(28, 28), axes=[1,0]) # img_size * img_size arrays\n",
        "plt.imshow(img_flip, cmap='Greys_r')\n",
        "\n",
        "plt.show()\n",
        "print('Image belongs to class: ', class_mapping[train_data.values[row_num,0]])"
      ],
      "execution_count": null,
      "outputs": [
        {
          "output_type": "display_data",
          "data": {
            "image/png": "[encoded data removed]",
            "text/plain": [
              "<Figure size 432x288 with 1 Axes>"
            ]
          },
          "metadata": {
            "tags": [],
            "needs_background": "light"
          }
        },
        {
          "output_type": "display_data",
          "data": {
            "image/png": "[encoded data removed]",
            "text/plain": [
              "<Figure size 432x288 with 1 Axes>"
            ]
          },
          "metadata": {
            "tags": [],
            "needs_background": "light"
          }
        },
        {
          "output_type": "stream",
          "text": [
            "K\n"
          ],
          "name": "stdout"
        }
      ]
    },
    {
      "cell_type": "code",
      "metadata": {
        "id": "yFdGPPdqqI95",
        "colab_type": "code",
        "colab": {}
      },
      "source": [
        "def show_img(data, row_num):\n",
        "    img_flip = np.transpose(data.values[row_num,1:].reshape(28, 28), axes=[1,0]) # img_size * img_size arrays\n",
        "    plt.title('Class: ' + str(data.values[row_num,0]) + ', Label: ' + str(class_mapping[data.values[row_num,0]]))\n",
        "    plt.imshow(img_flip, cmap='Greys_r')"
      ],
      "execution_count": null,
      "outputs": []
    },
    {
      "cell_type": "code",
      "metadata": {
        "id": "G2FLhNNlqN8R",
        "colab_type": "code",
        "colab": {}
      },
      "source": [
        "# 10 digits, 26 letters, and 11 capital letters that are different looking from their lowercase counterparts\n",
        "num_classes = 47 \n",
        "img_size = 28\n",
        "\n",
        "def img_label_load(data, num_classes=None):\n",
        "    #data = pd.read_csv(data_path, header=None)\n",
        "    data_rows = len(data)\n",
        "    if not num_classes:\n",
        "        num_classes = len(data[0].unique())\n",
        "    \n",
        "    # this assumes square imgs. Should be 28x28\n",
        "    img_size = int(np.sqrt(len(data.iloc[0][1:])))\n",
        "    \n",
        "    # Images need to be transposed. This line also does the reshaping needed.\n",
        "    imgs = np.transpose(data.values[:,1:].reshape(data_rows, img_size, img_size, 1), axes=[0,2,1,3]) # img_size * img_size arrays\n",
        "    \n",
        "    labels = keras.utils.to_categorical(data.values[:,0], num_classes) # one-hot encoding vectors\n",
        "    \n",
        "    return imgs/255., labels"
      ],
      "execution_count": null,
      "outputs": []
    },
    {
      "cell_type": "code",
      "metadata": {
        "id": "krBAMKFGqRVy",
        "colab_type": "code",
        "colab": {
          "base_uri": "https://localhost:8080/",
          "height": 557
        },
        "outputId": "61e97322-d3e7-4785-c4e1-09567ce217bd"
      },
      "source": [
        "model = keras.models.Sequential()\n",
        "\n",
        "# model.add(keras.layers.Reshape((img_size,img_size,1), input_shape=(784,)))\n",
        "model.add(keras.layers.Conv2D(filters=16, strides = 2, kernel_size=(3,3), activation='relu', \n",
        "                              input_shape=(img_size,img_size,1)))\n",
        "#model.add(keras.layers.MaxPooling2D(pool_size=(2,2)))\n",
        "model.add(keras.layers.Dropout(.25))\n",
        "\n",
        "model.add(keras.layers.Conv2D(filters=32, kernel_size=(3,3) , activation='relu'))\n",
        "#model.add(keras.layers.MaxPooling2D(pool_size=(2,2)))\n",
        "model.add(keras.layers.Dropout(.25))\n",
        "\n",
        "model.add(keras.layers.Conv2D(filters=64, strides=2, kernel_size=(3,3), activation='relu'))\n",
        "#model.add(keras.layers.MaxPooling2D(pool_size=(2,2)))\n",
        "model.add(keras.layers.Dropout(.25))\n",
        "\n",
        "model.add(keras.layers.Conv2D(filters=64, kernel_size=(3,3), activation='relu'))\n",
        "#model.add(keras.layers.MaxPooling2D(pool_size=(2,2)))\n",
        "model.add(keras.layers.Dropout(.25))\n",
        "\n",
        "# model.add(keras.layers.Conv2D(filters=30, kernel_size=(3,3), activation='relu'))\n",
        "\n",
        "model.add(keras.layers.Flatten())\n",
        "model.add(keras.layers.Dense(units=128, activation='relu'))\n",
        "model.add(keras.layers.Dropout(.25))\n",
        "\n",
        "model.add(keras.layers.Dense(units=num_classes, activation='softmax'))\n",
        "model.compile(loss='categorical_crossentropy', optimizer='adam', metrics=['accuracy'])\n",
        "model.summary()"
      ],
      "execution_count": null,
      "outputs": [
        {
          "output_type": "stream",
          "text": [
            "Model: \"sequential_4\"\n",
            "_________________________________________________________________\n",
            "Layer (type)                 Output Shape              Param #   \n",
            "=================================================================\n",
            "conv2d_13 (Conv2D)           (None, 13, 13, 16)        160       \n",
            "_________________________________________________________________\n",
            "dropout_16 (Dropout)         (None, 13, 13, 16)        0         \n",
            "_________________________________________________________________\n",
            "conv2d_14 (Conv2D)           (None, 11, 11, 32)        4640      \n",
            "_________________________________________________________________\n",
            "dropout_17 (Dropout)         (None, 11, 11, 32)        0         \n",
            "_________________________________________________________________\n",
            "conv2d_15 (Conv2D)           (None, 5, 5, 64)          18496     \n",
            "_________________________________________________________________\n",
            "dropout_18 (Dropout)         (None, 5, 5, 64)          0         \n",
            "_________________________________________________________________\n",
            "conv2d_16 (Conv2D)           (None, 3, 3, 64)          36928     \n",
            "_________________________________________________________________\n",
            "dropout_19 (Dropout)         (None, 3, 3, 64)          0         \n",
            "_________________________________________________________________\n",
            "flatten_4 (Flatten)          (None, 576)               0         \n",
            "_________________________________________________________________\n",
            "dense_7 (Dense)              (None, 128)               73856     \n",
            "_________________________________________________________________\n",
            "dropout_20 (Dropout)         (None, 128)               0         \n",
            "_________________________________________________________________\n",
            "dense_8 (Dense)              (None, 47)                6063      \n",
            "=================================================================\n",
            "Total params: 140,143\n",
            "Trainable params: 140,143\n",
            "Non-trainable params: 0\n",
            "_________________________________________________________________\n"
          ],
          "name": "stdout"
        }
      ]
    },
    {
      "cell_type": "code",
      "metadata": {
        "id": "p5-QmeI1qbqq",
        "colab_type": "code",
        "colab": {
          "base_uri": "https://localhost:8080/",
          "height": 220
        },
        "outputId": "1e6c99ed-f937-4db2-d152-15b2a4449a39"
      },
      "source": [
        "for layer in model.layers:\n",
        "    print(layer.get_output_at(0).get_shape().as_list())"
      ],
      "execution_count": null,
      "outputs": [
        {
          "output_type": "stream",
          "text": [
            "[None, 13, 13, 16]\n",
            "[None, 13, 13, 16]\n",
            "[None, 11, 11, 32]\n",
            "[None, 11, 11, 32]\n",
            "[None, 5, 5, 64]\n",
            "[None, 5, 5, 64]\n",
            "[None, 3, 3, 64]\n",
            "[None, 3, 3, 64]\n",
            "[None, None]\n",
            "[None, 128]\n",
            "[None, 128]\n",
            "[None, 47]\n"
          ],
          "name": "stdout"
        }
      ]
    },
    {
      "cell_type": "code",
      "metadata": {
        "id": "y_b2w8MckuFz",
        "colab_type": "code",
        "colab": {}
      },
      "source": [
        "X, y = img_label_load(train_data)"
      ],
      "execution_count": null,
      "outputs": []
    },
    {
      "cell_type": "code",
      "metadata": {
        "id": "B523dEjeqkDx",
        "colab_type": "code",
        "colab": {
          "base_uri": "https://localhost:8080/",
          "height": 1000
        },
        "outputId": "2412d49d-4ff7-4c31-f42d-e67f8b01c1e0"
      },
      "source": [
        "data_generator = keras.preprocessing.image.ImageDataGenerator(validation_split=.2)\n",
        "## consider using this for more variety\n",
        "''' data_generator_with_aug = keras.preprocessing.image.ImageDataGenerator(validation_split=.2,\n",
        "                                            width_shift_range=.05, height_shift_range=.05,\n",
        "                                            rotation_range=15, zoom_range=.05, shear_range=.1)\n",
        "'''\n",
        "\n",
        "training_data_generator = data_generator.flow(X, y, subset='training')\n",
        "validation_data_generator = data_generator.flow(X, y, subset='validation')\n",
        "history = model.fit_generator(training_data_generator, \n",
        "                              steps_per_epoch=500, epochs=120, # can change epochs to 10\n",
        "                              validation_data=validation_data_generator)\n",
        "\n",
        "# test model\n",
        "test_X, test_y = img_label_load(test_data)\n",
        "test_data_generator = data_generator.flow(test_X, test_y)\n",
        "\n",
        "loss,accuracy = model.evaluate_generator(test_data_generator)\n",
        "print('loss: ',loss, 'accuracy: ',accuracy)\n",
        "\n",
        "# Save model\n",
        "\n",
        "from keras.models import model_from_json\n",
        "\n",
        "# serialize model to JSON\n",
        "model_file = '/content/drive/My Drive/datasets/ocr/emnist/models/models_cat_47.json'\n",
        "model_weights_file = '/content/drive/My Drive/datasets/ocr/emnist/models/models_cat_47.h5'\n",
        "model_json = model.to_json()\n",
        "with open(model_file, \"w\") as json_file:\n",
        "    json_file.write(model_json)\n",
        "# serialize weights to HDF5\n",
        "model.save_weights(model_weights_file)\n",
        "print(\"Saved model to disk\")\n",
        "\n",
        "\n",
        "# load json and create model\n",
        "json_file = open(model_file, 'r')\n",
        "loaded_model_json = json_file.read()\n",
        "json_file.close()\n",
        "loaded_model = model_from_json(loaded_model_json)\n",
        "# load weights into new model\n",
        "loaded_model.load_weights(model_weights_file)\n",
        "print(\"Loaded model from disk\")\n",
        " \n",
        "# evaluate loaded model on test data\n",
        "loaded_model.compile(loss='binary_crossentropy', optimizer='adam', metrics=['accuracy'])\n",
        "loss,accuracy = loaded_model.evaluate_generator(test_data_generator)\n",
        "print('loss: ',loss, 'accuracy: ',accuracy)"
      ],
      "execution_count": null,
      "outputs": [
        {
          "output_type": "stream",
          "text": [
            "Epoch 1/120\n",
            "500/500 [==============================] - 15s 29ms/step - loss: 2.2236 - accuracy: 0.3851 - val_loss: 0.7885 - val_accuracy: 0.6863\n",
            "Epoch 2/120\n",
            "500/500 [==============================] - 14s 29ms/step - loss: 1.1573 - accuracy: 0.6409 - val_loss: 0.8834 - val_accuracy: 0.7527\n",
            "Epoch 3/120\n",
            "500/500 [==============================] - 14s 29ms/step - loss: 0.9072 - accuracy: 0.7139 - val_loss: 0.5711 - val_accuracy: 0.7969\n",
            "Epoch 4/120\n",
            "500/500 [==============================] - 14s 29ms/step - loss: 0.8155 - accuracy: 0.7371 - val_loss: 0.3892 - val_accuracy: 0.8144\n",
            "Epoch 5/120\n",
            "500/500 [==============================] - 14s 29ms/step - loss: 0.7424 - accuracy: 0.7564 - val_loss: 0.5222 - val_accuracy: 0.8173\n",
            "Epoch 6/120\n",
            "500/500 [==============================] - 15s 29ms/step - loss: 0.6763 - accuracy: 0.7737 - val_loss: 0.3654 - val_accuracy: 0.8335\n",
            "Epoch 7/120\n",
            "500/500 [==============================] - 14s 29ms/step - loss: 0.6458 - accuracy: 0.7851 - val_loss: 0.3371 - val_accuracy: 0.8428\n",
            "Epoch 8/120\n",
            "500/500 [==============================] - 14s 29ms/step - loss: 0.6137 - accuracy: 0.7902 - val_loss: 0.2983 - val_accuracy: 0.8459\n",
            "Epoch 9/120\n",
            "500/500 [==============================] - 17s 34ms/step - loss: 0.6064 - accuracy: 0.7973 - val_loss: 0.3881 - val_accuracy: 0.8485\n",
            "Epoch 10/120\n",
            "500/500 [==============================] - 14s 29ms/step - loss: 0.5797 - accuracy: 0.8076 - val_loss: 0.3180 - val_accuracy: 0.8393\n",
            "Epoch 11/120\n",
            "500/500 [==============================] - 15s 29ms/step - loss: 0.5704 - accuracy: 0.8076 - val_loss: 0.3792 - val_accuracy: 0.8530\n",
            "Epoch 12/120\n",
            "500/500 [==============================] - 14s 29ms/step - loss: 0.5418 - accuracy: 0.8176 - val_loss: 0.7988 - val_accuracy: 0.8559\n",
            "Epoch 13/120\n",
            "500/500 [==============================] - 14s 29ms/step - loss: 0.5319 - accuracy: 0.8158 - val_loss: 0.2656 - val_accuracy: 0.8580\n",
            "Epoch 14/120\n",
            "500/500 [==============================] - 14s 29ms/step - loss: 0.5308 - accuracy: 0.8171 - val_loss: 0.5813 - val_accuracy: 0.8611\n",
            "Epoch 15/120\n",
            "500/500 [==============================] - 15s 29ms/step - loss: 0.5091 - accuracy: 0.8235 - val_loss: 0.2690 - val_accuracy: 0.8630\n",
            "Epoch 16/120\n",
            "500/500 [==============================] - 14s 29ms/step - loss: 0.5185 - accuracy: 0.8238 - val_loss: 0.2304 - val_accuracy: 0.8614\n",
            "Epoch 17/120\n",
            "500/500 [==============================] - 14s 29ms/step - loss: 0.5142 - accuracy: 0.8251 - val_loss: 0.7728 - val_accuracy: 0.8629\n",
            "Epoch 18/120\n",
            "500/500 [==============================] - 14s 29ms/step - loss: 0.4823 - accuracy: 0.8313 - val_loss: 0.0997 - val_accuracy: 0.8660\n",
            "Epoch 19/120\n",
            "500/500 [==============================] - 15s 29ms/step - loss: 0.4892 - accuracy: 0.8289 - val_loss: 0.7604 - val_accuracy: 0.8583\n",
            "Epoch 20/120\n",
            "500/500 [==============================] - 14s 29ms/step - loss: 0.4802 - accuracy: 0.8311 - val_loss: 0.5980 - val_accuracy: 0.8653\n",
            "Epoch 21/120\n",
            "500/500 [==============================] - 14s 29ms/step - loss: 0.4930 - accuracy: 0.8289 - val_loss: 0.4447 - val_accuracy: 0.8613\n",
            "Epoch 22/120\n",
            "500/500 [==============================] - 14s 28ms/step - loss: 0.4769 - accuracy: 0.8334 - val_loss: 0.1954 - val_accuracy: 0.8676\n",
            "Epoch 23/120\n",
            "500/500 [==============================] - 14s 28ms/step - loss: 0.4789 - accuracy: 0.8306 - val_loss: 0.0609 - val_accuracy: 0.8664\n",
            "Epoch 24/120\n",
            "500/500 [==============================] - 14s 29ms/step - loss: 0.4587 - accuracy: 0.8339 - val_loss: 0.4391 - val_accuracy: 0.8716\n",
            "Epoch 25/120\n",
            "500/500 [==============================] - 15s 30ms/step - loss: 0.4736 - accuracy: 0.8341 - val_loss: 0.2841 - val_accuracy: 0.8721\n",
            "Epoch 26/120\n",
            "500/500 [==============================] - 15s 29ms/step - loss: 0.4638 - accuracy: 0.8383 - val_loss: 0.2429 - val_accuracy: 0.8736\n",
            "Epoch 27/120\n",
            "500/500 [==============================] - 15s 29ms/step - loss: 0.4530 - accuracy: 0.8416 - val_loss: 0.4061 - val_accuracy: 0.8726\n",
            "Epoch 28/120\n",
            "500/500 [==============================] - 15s 30ms/step - loss: 0.4671 - accuracy: 0.8323 - val_loss: 0.2483 - val_accuracy: 0.8696\n",
            "Epoch 29/120\n",
            "500/500 [==============================] - 14s 29ms/step - loss: 0.4276 - accuracy: 0.8485 - val_loss: 0.4529 - val_accuracy: 0.8703\n",
            "Epoch 30/120\n",
            "500/500 [==============================] - 15s 29ms/step - loss: 0.4513 - accuracy: 0.8396 - val_loss: 0.6900 - val_accuracy: 0.8750\n",
            "Epoch 31/120\n",
            "500/500 [==============================] - 15s 29ms/step - loss: 0.4493 - accuracy: 0.8400 - val_loss: 0.2871 - val_accuracy: 0.8737\n",
            "Epoch 32/120\n",
            "500/500 [==============================] - 15s 29ms/step - loss: 0.4395 - accuracy: 0.8449 - val_loss: 0.1919 - val_accuracy: 0.8755\n",
            "Epoch 33/120\n",
            "500/500 [==============================] - 14s 29ms/step - loss: 0.4522 - accuracy: 0.8417 - val_loss: 0.1361 - val_accuracy: 0.8727\n",
            "Epoch 34/120\n",
            "500/500 [==============================] - 15s 30ms/step - loss: 0.4459 - accuracy: 0.8409 - val_loss: 0.6458 - val_accuracy: 0.8726\n",
            "Epoch 35/120\n",
            "500/500 [==============================] - 15s 29ms/step - loss: 0.4210 - accuracy: 0.8466 - val_loss: 0.2906 - val_accuracy: 0.8763\n",
            "Epoch 36/120\n",
            "500/500 [==============================] - 15s 29ms/step - loss: 0.4322 - accuracy: 0.8451 - val_loss: 0.2895 - val_accuracy: 0.8764\n",
            "Epoch 37/120\n",
            "500/500 [==============================] - 15s 29ms/step - loss: 0.4214 - accuracy: 0.8504 - val_loss: 0.1710 - val_accuracy: 0.8749\n",
            "Epoch 38/120\n",
            "500/500 [==============================] - 15s 29ms/step - loss: 0.4361 - accuracy: 0.8401 - val_loss: 0.3567 - val_accuracy: 0.8739\n",
            "Epoch 39/120\n",
            "500/500 [==============================] - 14s 29ms/step - loss: 0.4459 - accuracy: 0.8447 - val_loss: 0.7326 - val_accuracy: 0.8766\n",
            "Epoch 40/120\n",
            "500/500 [==============================] - 15s 30ms/step - loss: 0.4268 - accuracy: 0.8446 - val_loss: 0.3091 - val_accuracy: 0.8769\n",
            "Epoch 41/120\n",
            "500/500 [==============================] - 15s 30ms/step - loss: 0.4262 - accuracy: 0.8463 - val_loss: 0.2224 - val_accuracy: 0.8771\n",
            "Epoch 42/120\n",
            "500/500 [==============================] - 14s 29ms/step - loss: 0.4244 - accuracy: 0.8487 - val_loss: 0.2539 - val_accuracy: 0.8754\n",
            "Epoch 43/120\n",
            "500/500 [==============================] - 15s 29ms/step - loss: 0.4227 - accuracy: 0.8507 - val_loss: 0.2877 - val_accuracy: 0.8787\n",
            "Epoch 44/120\n",
            "500/500 [==============================] - 15s 29ms/step - loss: 0.4263 - accuracy: 0.8474 - val_loss: 0.5554 - val_accuracy: 0.8777\n",
            "Epoch 45/120\n",
            "500/500 [==============================] - 14s 29ms/step - loss: 0.4134 - accuracy: 0.8540 - val_loss: 0.2527 - val_accuracy: 0.8746\n",
            "Epoch 46/120\n",
            "500/500 [==============================] - 15s 29ms/step - loss: 0.4186 - accuracy: 0.8478 - val_loss: 0.4927 - val_accuracy: 0.8803\n",
            "Epoch 47/120\n",
            "500/500 [==============================] - 15s 29ms/step - loss: 0.4033 - accuracy: 0.8536 - val_loss: 0.2258 - val_accuracy: 0.8789\n",
            "Epoch 48/120\n",
            "500/500 [==============================] - 15s 29ms/step - loss: 0.4052 - accuracy: 0.8548 - val_loss: 0.1756 - val_accuracy: 0.8755\n",
            "Epoch 49/120\n",
            "500/500 [==============================] - 15s 29ms/step - loss: 0.4134 - accuracy: 0.8512 - val_loss: 0.9290 - val_accuracy: 0.8817\n",
            "Epoch 50/120\n",
            "500/500 [==============================] - 16s 33ms/step - loss: 0.4192 - accuracy: 0.8487 - val_loss: 0.5146 - val_accuracy: 0.8785\n",
            "Epoch 51/120\n",
            "500/500 [==============================] - 17s 35ms/step - loss: 0.4238 - accuracy: 0.8499 - val_loss: 0.2778 - val_accuracy: 0.8793\n",
            "Epoch 52/120\n",
            "500/500 [==============================] - 15s 30ms/step - loss: 0.4055 - accuracy: 0.8514 - val_loss: 0.3705 - val_accuracy: 0.8811\n",
            "Epoch 53/120\n",
            "500/500 [==============================] - 15s 30ms/step - loss: 0.4129 - accuracy: 0.8513 - val_loss: 0.4357 - val_accuracy: 0.8785\n",
            "Epoch 54/120\n",
            "500/500 [==============================] - 15s 31ms/step - loss: 0.4180 - accuracy: 0.8519 - val_loss: 0.3380 - val_accuracy: 0.8800\n",
            "Epoch 55/120\n",
            "500/500 [==============================] - 15s 30ms/step - loss: 0.4062 - accuracy: 0.8556 - val_loss: 0.2223 - val_accuracy: 0.8767\n",
            "Epoch 56/120\n",
            "500/500 [==============================] - 15s 30ms/step - loss: 0.4107 - accuracy: 0.8537 - val_loss: 0.4109 - val_accuracy: 0.8768\n",
            "Epoch 57/120\n",
            "500/500 [==============================] - 15s 31ms/step - loss: 0.4048 - accuracy: 0.8579 - val_loss: 0.3740 - val_accuracy: 0.8782\n",
            "Epoch 58/120\n",
            "500/500 [==============================] - 15s 30ms/step - loss: 0.4058 - accuracy: 0.8526 - val_loss: 0.3491 - val_accuracy: 0.8785\n",
            "Epoch 59/120\n",
            "500/500 [==============================] - 15s 30ms/step - loss: 0.3971 - accuracy: 0.8544 - val_loss: 0.2822 - val_accuracy: 0.8799\n",
            "Epoch 60/120\n",
            "500/500 [==============================] - 16s 31ms/step - loss: 0.4169 - accuracy: 0.8519 - val_loss: 0.3536 - val_accuracy: 0.8791\n",
            "Epoch 61/120\n",
            "500/500 [==============================] - 15s 30ms/step - loss: 0.3954 - accuracy: 0.8586 - val_loss: 0.3375 - val_accuracy: 0.8817\n",
            "Epoch 62/120\n",
            "500/500 [==============================] - 15s 31ms/step - loss: 0.4197 - accuracy: 0.8501 - val_loss: 0.3874 - val_accuracy: 0.8798\n",
            "Epoch 63/120\n",
            "500/500 [==============================] - 15s 30ms/step - loss: 0.3929 - accuracy: 0.8559 - val_loss: 0.4203 - val_accuracy: 0.8770\n",
            "Epoch 64/120\n",
            "500/500 [==============================] - 15s 30ms/step - loss: 0.3985 - accuracy: 0.8587 - val_loss: 0.9129 - val_accuracy: 0.8754\n",
            "Epoch 65/120\n",
            "500/500 [==============================] - 15s 31ms/step - loss: 0.3932 - accuracy: 0.8547 - val_loss: 0.2482 - val_accuracy: 0.8796\n",
            "Epoch 66/120\n",
            "500/500 [==============================] - 15s 30ms/step - loss: 0.4021 - accuracy: 0.8558 - val_loss: 0.2145 - val_accuracy: 0.8816\n",
            "Epoch 67/120\n",
            "500/500 [==============================] - 15s 30ms/step - loss: 0.4157 - accuracy: 0.8551 - val_loss: 0.3181 - val_accuracy: 0.8822\n",
            "Epoch 68/120\n",
            "500/500 [==============================] - 15s 30ms/step - loss: 0.3951 - accuracy: 0.8558 - val_loss: 0.5391 - val_accuracy: 0.8816\n",
            "Epoch 69/120\n",
            "500/500 [==============================] - 15s 30ms/step - loss: 0.4003 - accuracy: 0.8543 - val_loss: 0.3551 - val_accuracy: 0.8821\n",
            "Epoch 70/120\n",
            "500/500 [==============================] - 15s 29ms/step - loss: 0.3894 - accuracy: 0.8609 - val_loss: 0.2547 - val_accuracy: 0.8811\n",
            "Epoch 71/120\n",
            "500/500 [==============================] - 15s 29ms/step - loss: 0.3917 - accuracy: 0.8560 - val_loss: 0.3130 - val_accuracy: 0.8772\n",
            "Epoch 72/120\n",
            "500/500 [==============================] - 15s 29ms/step - loss: 0.3977 - accuracy: 0.8579 - val_loss: 1.0493 - val_accuracy: 0.8816\n",
            "Epoch 73/120\n",
            "500/500 [==============================] - 15s 29ms/step - loss: 0.3975 - accuracy: 0.8559 - val_loss: 0.4532 - val_accuracy: 0.8834\n",
            "Epoch 74/120\n",
            "500/500 [==============================] - 15s 29ms/step - loss: 0.3939 - accuracy: 0.8570 - val_loss: 0.1734 - val_accuracy: 0.8809\n",
            "Epoch 75/120\n",
            "500/500 [==============================] - 15s 30ms/step - loss: 0.3879 - accuracy: 0.8584 - val_loss: 0.3618 - val_accuracy: 0.8798\n",
            "Epoch 76/120\n",
            "500/500 [==============================] - 15s 29ms/step - loss: 0.3915 - accuracy: 0.8579 - val_loss: 0.7987 - val_accuracy: 0.8790\n",
            "Epoch 77/120\n",
            "500/500 [==============================] - 15s 30ms/step - loss: 0.3994 - accuracy: 0.8577 - val_loss: 0.5925 - val_accuracy: 0.8780\n",
            "Epoch 78/120\n",
            "500/500 [==============================] - 15s 29ms/step - loss: 0.4080 - accuracy: 0.8594 - val_loss: 0.1769 - val_accuracy: 0.8824\n",
            "Epoch 79/120\n",
            "500/500 [==============================] - 15s 30ms/step - loss: 0.3926 - accuracy: 0.8540 - val_loss: 0.7157 - val_accuracy: 0.8840\n",
            "Epoch 80/120\n",
            "500/500 [==============================] - 14s 29ms/step - loss: 0.3862 - accuracy: 0.8605 - val_loss: 0.3574 - val_accuracy: 0.8822\n",
            "Epoch 81/120\n",
            "500/500 [==============================] - 15s 29ms/step - loss: 0.3979 - accuracy: 0.8553 - val_loss: 0.2735 - val_accuracy: 0.8796\n",
            "Epoch 82/120\n",
            "500/500 [==============================] - 15s 29ms/step - loss: 0.3925 - accuracy: 0.8551 - val_loss: 0.0719 - val_accuracy: 0.8822\n",
            "Epoch 83/120\n",
            "500/500 [==============================] - 15s 29ms/step - loss: 0.3828 - accuracy: 0.8612 - val_loss: 0.2888 - val_accuracy: 0.8819\n",
            "Epoch 84/120\n",
            "500/500 [==============================] - 14s 29ms/step - loss: 0.3844 - accuracy: 0.8583 - val_loss: 0.2203 - val_accuracy: 0.8813\n",
            "Epoch 85/120\n",
            "500/500 [==============================] - 14s 29ms/step - loss: 0.4002 - accuracy: 0.8580 - val_loss: 0.2657 - val_accuracy: 0.8826\n",
            "Epoch 86/120\n",
            "500/500 [==============================] - 14s 29ms/step - loss: 0.3850 - accuracy: 0.8594 - val_loss: 0.1455 - val_accuracy: 0.8796\n",
            "Epoch 87/120\n",
            "500/500 [==============================] - 14s 28ms/step - loss: 0.3877 - accuracy: 0.8609 - val_loss: 0.4768 - val_accuracy: 0.8834\n",
            "Epoch 88/120\n",
            "500/500 [==============================] - 14s 28ms/step - loss: 0.3789 - accuracy: 0.8652 - val_loss: 0.4678 - val_accuracy: 0.8819\n",
            "Epoch 89/120\n",
            "500/500 [==============================] - 14s 28ms/step - loss: 0.3848 - accuracy: 0.8611 - val_loss: 0.1299 - val_accuracy: 0.8830\n",
            "Epoch 90/120\n",
            "500/500 [==============================] - 14s 28ms/step - loss: 0.4050 - accuracy: 0.8526 - val_loss: 0.4111 - val_accuracy: 0.8842\n",
            "Epoch 91/120\n",
            "500/500 [==============================] - 16s 33ms/step - loss: 0.3790 - accuracy: 0.8661 - val_loss: 0.1601 - val_accuracy: 0.8846\n",
            "Epoch 92/120\n",
            "500/500 [==============================] - 14s 28ms/step - loss: 0.3790 - accuracy: 0.8564 - val_loss: 0.4229 - val_accuracy: 0.8830\n",
            "Epoch 93/120\n",
            "500/500 [==============================] - 14s 28ms/step - loss: 0.3822 - accuracy: 0.8595 - val_loss: 0.2386 - val_accuracy: 0.8831\n",
            "Epoch 94/120\n",
            "500/500 [==============================] - 14s 28ms/step - loss: 0.3846 - accuracy: 0.8608 - val_loss: 0.1570 - val_accuracy: 0.8824\n",
            "Epoch 95/120\n",
            "500/500 [==============================] - 14s 28ms/step - loss: 0.3968 - accuracy: 0.8548 - val_loss: 0.2907 - val_accuracy: 0.8843\n",
            "Epoch 96/120\n",
            "500/500 [==============================] - 14s 29ms/step - loss: 0.3977 - accuracy: 0.8587 - val_loss: 0.3372 - val_accuracy: 0.8822\n",
            "Epoch 97/120\n",
            "500/500 [==============================] - 14s 29ms/step - loss: 0.3789 - accuracy: 0.8604 - val_loss: 0.2052 - val_accuracy: 0.8790\n",
            "Epoch 98/120\n",
            "500/500 [==============================] - 15s 29ms/step - loss: 0.3822 - accuracy: 0.8579 - val_loss: 0.3597 - val_accuracy: 0.8832\n",
            "Epoch 99/120\n",
            "500/500 [==============================] - 14s 28ms/step - loss: 0.3778 - accuracy: 0.8620 - val_loss: 0.5369 - val_accuracy: 0.8809\n",
            "Epoch 100/120\n",
            "500/500 [==============================] - 14s 29ms/step - loss: 0.3838 - accuracy: 0.8597 - val_loss: 0.2132 - val_accuracy: 0.8821\n",
            "Epoch 101/120\n",
            "500/500 [==============================] - 14s 28ms/step - loss: 0.3853 - accuracy: 0.8591 - val_loss: 0.4339 - val_accuracy: 0.8801\n",
            "Epoch 102/120\n",
            "500/500 [==============================] - 14s 29ms/step - loss: 0.3896 - accuracy: 0.8599 - val_loss: 0.1275 - val_accuracy: 0.8817\n",
            "Epoch 103/120\n",
            "500/500 [==============================] - 14s 28ms/step - loss: 0.3819 - accuracy: 0.8615 - val_loss: 0.2775 - val_accuracy: 0.8839\n",
            "Epoch 104/120\n",
            "500/500 [==============================] - 15s 29ms/step - loss: 0.3880 - accuracy: 0.8589 - val_loss: 0.2069 - val_accuracy: 0.8830\n",
            "Epoch 105/120\n",
            "500/500 [==============================] - 14s 28ms/step - loss: 0.3765 - accuracy: 0.8608 - val_loss: 0.1842 - val_accuracy: 0.8842\n",
            "Epoch 106/120\n",
            "500/500 [==============================] - 14s 28ms/step - loss: 0.3742 - accuracy: 0.8661 - val_loss: 0.1953 - val_accuracy: 0.8833\n",
            "Epoch 107/120\n",
            "500/500 [==============================] - 14s 27ms/step - loss: 0.3897 - accuracy: 0.8594 - val_loss: 0.1602 - val_accuracy: 0.8783\n",
            "Epoch 108/120\n",
            "500/500 [==============================] - 14s 27ms/step - loss: 0.3718 - accuracy: 0.8641 - val_loss: 0.2581 - val_accuracy: 0.8779\n",
            "Epoch 109/120\n",
            "500/500 [==============================] - 14s 27ms/step - loss: 0.3723 - accuracy: 0.8606 - val_loss: 0.1149 - val_accuracy: 0.8853\n",
            "Epoch 110/120\n",
            "500/500 [==============================] - 14s 27ms/step - loss: 0.3774 - accuracy: 0.8646 - val_loss: 0.4313 - val_accuracy: 0.8829\n",
            "Epoch 111/120\n",
            "500/500 [==============================] - 14s 27ms/step - loss: 0.3805 - accuracy: 0.8597 - val_loss: 0.2812 - val_accuracy: 0.8838\n",
            "Epoch 112/120\n",
            "500/500 [==============================] - 14s 27ms/step - loss: 0.3896 - accuracy: 0.8594 - val_loss: 0.4450 - val_accuracy: 0.8837\n",
            "Epoch 113/120\n",
            "500/500 [==============================] - 14s 27ms/step - loss: 0.3814 - accuracy: 0.8601 - val_loss: 0.1902 - val_accuracy: 0.8831\n",
            "Epoch 114/120\n",
            "500/500 [==============================] - 14s 27ms/step - loss: 0.3682 - accuracy: 0.8642 - val_loss: 0.1922 - val_accuracy: 0.8818\n",
            "Epoch 115/120\n",
            "500/500 [==============================] - 14s 27ms/step - loss: 0.3848 - accuracy: 0.8581 - val_loss: 0.0793 - val_accuracy: 0.8809\n",
            "Epoch 116/120\n",
            "500/500 [==============================] - 14s 27ms/step - loss: 0.3819 - accuracy: 0.8612 - val_loss: 0.0790 - val_accuracy: 0.8821\n",
            "Epoch 117/120\n",
            "500/500 [==============================] - 14s 28ms/step - loss: 0.3676 - accuracy: 0.8638 - val_loss: 0.1620 - val_accuracy: 0.8798\n",
            "Epoch 118/120\n",
            "500/500 [==============================] - 14s 28ms/step - loss: 0.3934 - accuracy: 0.8572 - val_loss: 0.2312 - val_accuracy: 0.8787\n",
            "Epoch 119/120\n",
            "500/500 [==============================] - 14s 28ms/step - loss: 0.3755 - accuracy: 0.8627 - val_loss: 0.1528 - val_accuracy: 0.8847\n",
            "Epoch 120/120\n",
            "500/500 [==============================] - 14s 28ms/step - loss: 0.3755 - accuracy: 0.8624 - val_loss: 0.1994 - val_accuracy: 0.8813\n",
            "loss:  0.40100759267807007 accuracy:  0.8770744800567627\n",
            "Saved model to disk\n",
            "Loaded model from disk\n",
            "loss:  0.01564355380833149 accuracy:  0.9949395656585693\n"
          ],
          "name": "stdout"
        }
      ]
    },
    {
      "cell_type": "markdown",
      "metadata": {
        "id": "CIUorRuN0l-9",
        "colab_type": "text"
      },
      "source": [
        "# Try a different method of saving a loading"
      ]
    },
    {
      "cell_type": "code",
      "metadata": {
        "id": "CkI-Ol8e0lPe",
        "colab_type": "code",
        "colab": {
          "base_uri": "https://localhost:8080/",
          "height": 882
        },
        "outputId": "afaeeac6-6d55-4328-d607-980357496ea3"
      },
      "source": [
        "model_file = '/content/drive/My Drive/datasets/ocr/emnist/models/models_cat_47_1.h5'\n",
        "model.save(model_file)\n",
        "\n",
        "from keras.models import load_model\n",
        "loaded_model = loaded_model(model_file)\n",
        "#loaded_model.compile(loss='binary_crossentropy', optimizer='adam', metrics=['accuracy'])\n",
        "loss,accuracy = loaded_model.evaluate_generator(test_data_generator)\n",
        "print('loss: ',loss, 'accuracy: ',accuracy)"
      ],
      "execution_count": null,
      "outputs": [
        {
          "output_type": "error",
          "ename": "ValueError",
          "evalue": "ignored",
          "traceback": [
            "\u001b[0;31m---------------------------------------------------------------------------\u001b[0m",
            "\u001b[0;31mValueError\u001b[0m                                Traceback (most recent call last)",
            "\u001b[0;32m/usr/local/lib/python3.6/dist-packages/keras/engine/base_layer.py\u001b[0m in \u001b[0;36massert_input_compatibility\u001b[0;34m(self, inputs)\u001b[0m\n\u001b[1;32m    309\u001b[0m             \u001b[0;32mtry\u001b[0m\u001b[0;34m:\u001b[0m\u001b[0;34m\u001b[0m\u001b[0;34m\u001b[0m\u001b[0m\n\u001b[0;32m--> 310\u001b[0;31m                 \u001b[0mK\u001b[0m\u001b[0;34m.\u001b[0m\u001b[0mis_keras_tensor\u001b[0m\u001b[0;34m(\u001b[0m\u001b[0mx\u001b[0m\u001b[0;34m)\u001b[0m\u001b[0;34m\u001b[0m\u001b[0;34m\u001b[0m\u001b[0m\n\u001b[0m\u001b[1;32m    311\u001b[0m             \u001b[0;32mexcept\u001b[0m \u001b[0mValueError\u001b[0m\u001b[0;34m:\u001b[0m\u001b[0;34m\u001b[0m\u001b[0;34m\u001b[0m\u001b[0m\n",
            "\u001b[0;32m/usr/local/lib/python3.6/dist-packages/keras/backend/tensorflow_backend.py\u001b[0m in \u001b[0;36mis_keras_tensor\u001b[0;34m(x)\u001b[0m\n\u001b[1;32m    696\u001b[0m         raise ValueError('Unexpectedly found an instance of type `' +\n\u001b[0;32m--> 697\u001b[0;31m                          \u001b[0mstr\u001b[0m\u001b[0;34m(\u001b[0m\u001b[0mtype\u001b[0m\u001b[0;34m(\u001b[0m\u001b[0mx\u001b[0m\u001b[0;34m)\u001b[0m\u001b[0;34m)\u001b[0m \u001b[0;34m+\u001b[0m \u001b[0;34m'`. '\u001b[0m\u001b[0;34m\u001b[0m\u001b[0;34m\u001b[0m\u001b[0m\n\u001b[0m\u001b[1;32m    698\u001b[0m                          'Expected a symbolic tensor instance.')\n",
            "\u001b[0;31mValueError\u001b[0m: Unexpectedly found an instance of type `<class 'str'>`. Expected a symbolic tensor instance.",
            "\nDuring handling of the above exception, another exception occurred:\n",
            "\u001b[0;31mValueError\u001b[0m                                Traceback (most recent call last)",
            "\u001b[0;32m<ipython-input-19-68aec0522f21>\u001b[0m in \u001b[0;36m<module>\u001b[0;34m()\u001b[0m\n\u001b[1;32m      3\u001b[0m \u001b[0;34m\u001b[0m\u001b[0m\n\u001b[1;32m      4\u001b[0m \u001b[0;32mfrom\u001b[0m \u001b[0mkeras\u001b[0m\u001b[0;34m.\u001b[0m\u001b[0mmodels\u001b[0m \u001b[0;32mimport\u001b[0m \u001b[0mload_model\u001b[0m\u001b[0;34m\u001b[0m\u001b[0;34m\u001b[0m\u001b[0m\n\u001b[0;32m----> 5\u001b[0;31m \u001b[0mloaded_model\u001b[0m \u001b[0;34m=\u001b[0m \u001b[0mloaded_model\u001b[0m\u001b[0;34m(\u001b[0m\u001b[0mmodel_file\u001b[0m\u001b[0;34m)\u001b[0m\u001b[0;34m\u001b[0m\u001b[0;34m\u001b[0m\u001b[0m\n\u001b[0m\u001b[1;32m      6\u001b[0m \u001b[0;31m#loaded_model.compile(loss='binary_crossentropy', optimizer='adam', metrics=['accuracy'])\u001b[0m\u001b[0;34m\u001b[0m\u001b[0;34m\u001b[0m\u001b[0;34m\u001b[0m\u001b[0m\n\u001b[1;32m      7\u001b[0m \u001b[0mloss\u001b[0m\u001b[0;34m,\u001b[0m\u001b[0maccuracy\u001b[0m \u001b[0;34m=\u001b[0m \u001b[0mloaded_model\u001b[0m\u001b[0;34m.\u001b[0m\u001b[0mevaluate_generator\u001b[0m\u001b[0;34m(\u001b[0m\u001b[0mtest_data_generator\u001b[0m\u001b[0;34m)\u001b[0m\u001b[0;34m\u001b[0m\u001b[0;34m\u001b[0m\u001b[0m\n",
            "\u001b[0;32m/usr/local/lib/python3.6/dist-packages/keras/backend/tensorflow_backend.py\u001b[0m in \u001b[0;36msymbolic_fn_wrapper\u001b[0;34m(*args, **kwargs)\u001b[0m\n\u001b[1;32m     73\u001b[0m         \u001b[0;32mif\u001b[0m \u001b[0m_SYMBOLIC_SCOPE\u001b[0m\u001b[0;34m.\u001b[0m\u001b[0mvalue\u001b[0m\u001b[0;34m:\u001b[0m\u001b[0;34m\u001b[0m\u001b[0;34m\u001b[0m\u001b[0m\n\u001b[1;32m     74\u001b[0m             \u001b[0;32mwith\u001b[0m \u001b[0mget_graph\u001b[0m\u001b[0;34m(\u001b[0m\u001b[0;34m)\u001b[0m\u001b[0;34m.\u001b[0m\u001b[0mas_default\u001b[0m\u001b[0;34m(\u001b[0m\u001b[0;34m)\u001b[0m\u001b[0;34m:\u001b[0m\u001b[0;34m\u001b[0m\u001b[0;34m\u001b[0m\u001b[0m\n\u001b[0;32m---> 75\u001b[0;31m                 \u001b[0;32mreturn\u001b[0m \u001b[0mfunc\u001b[0m\u001b[0;34m(\u001b[0m\u001b[0;34m*\u001b[0m\u001b[0margs\u001b[0m\u001b[0;34m,\u001b[0m \u001b[0;34m**\u001b[0m\u001b[0mkwargs\u001b[0m\u001b[0;34m)\u001b[0m\u001b[0;34m\u001b[0m\u001b[0;34m\u001b[0m\u001b[0m\n\u001b[0m\u001b[1;32m     76\u001b[0m         \u001b[0;32melse\u001b[0m\u001b[0;34m:\u001b[0m\u001b[0;34m\u001b[0m\u001b[0;34m\u001b[0m\u001b[0m\n\u001b[1;32m     77\u001b[0m             \u001b[0;32mreturn\u001b[0m \u001b[0mfunc\u001b[0m\u001b[0;34m(\u001b[0m\u001b[0;34m*\u001b[0m\u001b[0margs\u001b[0m\u001b[0;34m,\u001b[0m \u001b[0;34m**\u001b[0m\u001b[0mkwargs\u001b[0m\u001b[0;34m)\u001b[0m\u001b[0;34m\u001b[0m\u001b[0;34m\u001b[0m\u001b[0m\n",
            "\u001b[0;32m/usr/local/lib/python3.6/dist-packages/keras/engine/base_layer.py\u001b[0m in \u001b[0;36m__call__\u001b[0;34m(self, inputs, **kwargs)\u001b[0m\n\u001b[1;32m    470\u001b[0m             \u001b[0;31m# Raise exceptions in case the input is not compatible\u001b[0m\u001b[0;34m\u001b[0m\u001b[0;34m\u001b[0m\u001b[0;34m\u001b[0m\u001b[0m\n\u001b[1;32m    471\u001b[0m             \u001b[0;31m# with the input_spec set at build time.\u001b[0m\u001b[0;34m\u001b[0m\u001b[0;34m\u001b[0m\u001b[0;34m\u001b[0m\u001b[0m\n\u001b[0;32m--> 472\u001b[0;31m             \u001b[0mself\u001b[0m\u001b[0;34m.\u001b[0m\u001b[0massert_input_compatibility\u001b[0m\u001b[0;34m(\u001b[0m\u001b[0minputs\u001b[0m\u001b[0;34m)\u001b[0m\u001b[0;34m\u001b[0m\u001b[0;34m\u001b[0m\u001b[0m\n\u001b[0m\u001b[1;32m    473\u001b[0m \u001b[0;34m\u001b[0m\u001b[0m\n\u001b[1;32m    474\u001b[0m             \u001b[0;31m# Handle mask propagation.\u001b[0m\u001b[0;34m\u001b[0m\u001b[0;34m\u001b[0m\u001b[0;34m\u001b[0m\u001b[0m\n",
            "\u001b[0;32m/usr/local/lib/python3.6/dist-packages/keras/engine/base_layer.py\u001b[0m in \u001b[0;36massert_input_compatibility\u001b[0;34m(self, inputs)\u001b[0m\n\u001b[1;32m    314\u001b[0m                                  \u001b[0;34m'Received type: '\u001b[0m \u001b[0;34m+\u001b[0m\u001b[0;34m\u001b[0m\u001b[0;34m\u001b[0m\u001b[0m\n\u001b[1;32m    315\u001b[0m                                  \u001b[0mstr\u001b[0m\u001b[0;34m(\u001b[0m\u001b[0mtype\u001b[0m\u001b[0;34m(\u001b[0m\u001b[0mx\u001b[0m\u001b[0;34m)\u001b[0m\u001b[0;34m)\u001b[0m \u001b[0;34m+\u001b[0m \u001b[0;34m'. Full input: '\u001b[0m \u001b[0;34m+\u001b[0m\u001b[0;34m\u001b[0m\u001b[0;34m\u001b[0m\u001b[0m\n\u001b[0;32m--> 316\u001b[0;31m                                  \u001b[0mstr\u001b[0m\u001b[0;34m(\u001b[0m\u001b[0minputs\u001b[0m\u001b[0;34m)\u001b[0m \u001b[0;34m+\u001b[0m \u001b[0;34m'. All inputs to the layer '\u001b[0m\u001b[0;34m\u001b[0m\u001b[0;34m\u001b[0m\u001b[0m\n\u001b[0m\u001b[1;32m    317\u001b[0m                                  'should be tensors.')\n\u001b[1;32m    318\u001b[0m \u001b[0;34m\u001b[0m\u001b[0m\n",
            "\u001b[0;31mValueError\u001b[0m: Layer sequential_3 was called with an input that isn't a symbolic tensor. Received type: <class 'str'>. Full input: ['/content/drive/My Drive/datasets/ocr/emnist/models/models_cat_47_1.h5']. All inputs to the layer should be tensors."
          ]
        }
      ]
    },
    {
      "cell_type": "code",
      "metadata": {
        "id": "tIdecxRtsFOx",
        "colab_type": "code",
        "colab": {
          "base_uri": "https://localhost:8080/",
          "height": 34
        },
        "outputId": "e2ebf3bc-c36b-4579-f12d-07d239d467c8"
      },
      "source": [
        "!ls /content/drive/My\\ Drive/datasets/ocr/emnist/"
      ],
      "execution_count": null,
      "outputs": [
        {
          "output_type": "stream",
          "text": [
            "emnist-balanced-test.zip  emnist-balanced-train.zip\n"
          ],
          "name": "stdout"
        }
      ]
    },
    {
      "cell_type": "code",
      "metadata": {
        "id": "tAopbKHxqt3R",
        "colab_type": "code",
        "colab": {
          "base_uri": "https://localhost:8080/",
          "height": 34
        },
        "outputId": "7d51f260-7a39-4e8c-90d4-dc5dce0637e9"
      },
      "source": [
        "model.evaluate_generator(test_data_generator)"
      ],
      "execution_count": null,
      "outputs": [
        {
          "output_type": "execute_result",
          "data": {
            "text/plain": [
              "[0.2913113832473755, 0.904902458190918]"
            ]
          },
          "metadata": {
            "tags": []
          },
          "execution_count": 77
        }
      ]
    },
    {
      "cell_type": "code",
      "metadata": {
        "id": "Fq4xFq6orA7i",
        "colab_type": "code",
        "colab": {}
      },
      "source": [
        "# Next, export the TensorFlow Estimator to SavedModel\n",
        "\n",
        "from functools import partial\n",
        "import tensorflow as tf\n",
        "\n",
        "def serving_input_receiver_fn():\n",
        "    input_ph = tf.placeholder(tf.string, shape=[None], name='image_binary')\n",
        "    images = tf.map_fn(partial(tf.image.decode_image, channels=1), input_ph, dtype=tf.uint8)\n",
        "    images = tf.cast(images, tf.float32) / 255.\n",
        "    images.set_shape([None, 28, 28, 1])\n",
        "\n",
        "    # the first key is the name of first layer of the (keras) model. \n",
        "    # The second key is the name of the key that will be passed in the prediction request\n",
        "    return tf.estimator.export.ServingInputReceiver({model_input_name: images}, {'bytes': input_ph})"
      ],
      "execution_count": null,
      "outputs": []
    },
    {
      "cell_type": "code",
      "metadata": {
        "id": "6E0cPh1jrEdi",
        "colab_type": "code",
        "colab": {}
      },
      "source": [
        "export_path = estimator_model.export_savedmodel('./export', serving_input_receiver_fn=serving_input_receiver_fn)\n",
        "export_path"
      ],
      "execution_count": null,
      "outputs": []
    },
    {
      "cell_type": "code",
      "metadata": {
        "id": "6DKsn4_brM2h",
        "colab_type": "code",
        "colab": {}
      },
      "source": [
        "with open('model.json', 'w') as f:\n",
        "    f.write(model.to_json())\n",
        "model.save_weights('./model.h5')\n",
        "\n",
        "model.save('./full_model.h5')\n",
        "!ls -lh"
      ],
      "execution_count": null,
      "outputs": []
    }
  ]
}